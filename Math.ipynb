{
  "nbformat": 4,
  "nbformat_minor": 0,
  "metadata": {
    "colab": {
      "provenance": []
    },
    "kernelspec": {
      "name": "python3",
      "display_name": "Python 3"
    },
    "language_info": {
      "name": "python"
    }
  },
  "cells": [
    {
      "cell_type": "markdown",
      "source": [
        "## Math with Python\n",
        "\n",
        "Como resolver Algebra com Python ?\n",
        "\n",
        "Resolvendo:  2x + 5 = 13\n",
        "\n",
        "1a Opção ? Força bruta.\n",
        "\n"
      ],
      "metadata": {
        "id": "spscF4CmYfQL"
      }
    },
    {
      "cell_type": "code",
      "source": [
        "def bruto():\n",
        "  x = -100\n",
        "  while x <100:\n",
        "    print(\"tentando o: \", x)\n",
        "    if 2* x + 5 == 13:\n",
        "      print(\"achamos o x =\" , x )\n",
        "      break\n",
        "    x += 1\n",
        "\n",
        "bruto()"
      ],
      "metadata": {
        "colab": {
          "base_uri": "https://localhost:8080/"
        },
        "id": "Wzkre0gCYlFp",
        "outputId": "5f85e072-9592-4834-c42f-dafed4c169e7"
      },
      "execution_count": null,
      "outputs": [
        {
          "output_type": "stream",
          "name": "stdout",
          "text": [
            "tentando o:  -100\n",
            "tentando o:  -99\n",
            "tentando o:  -98\n",
            "tentando o:  -97\n",
            "tentando o:  -96\n",
            "tentando o:  -95\n",
            "tentando o:  -94\n",
            "tentando o:  -93\n",
            "tentando o:  -92\n",
            "tentando o:  -91\n",
            "tentando o:  -90\n",
            "tentando o:  -89\n",
            "tentando o:  -88\n",
            "tentando o:  -87\n",
            "tentando o:  -86\n",
            "tentando o:  -85\n",
            "tentando o:  -84\n",
            "tentando o:  -83\n",
            "tentando o:  -82\n",
            "tentando o:  -81\n",
            "tentando o:  -80\n",
            "tentando o:  -79\n",
            "tentando o:  -78\n",
            "tentando o:  -77\n",
            "tentando o:  -76\n",
            "tentando o:  -75\n",
            "tentando o:  -74\n",
            "tentando o:  -73\n",
            "tentando o:  -72\n",
            "tentando o:  -71\n",
            "tentando o:  -70\n",
            "tentando o:  -69\n",
            "tentando o:  -68\n",
            "tentando o:  -67\n",
            "tentando o:  -66\n",
            "tentando o:  -65\n",
            "tentando o:  -64\n",
            "tentando o:  -63\n",
            "tentando o:  -62\n",
            "tentando o:  -61\n",
            "tentando o:  -60\n",
            "tentando o:  -59\n",
            "tentando o:  -58\n",
            "tentando o:  -57\n",
            "tentando o:  -56\n",
            "tentando o:  -55\n",
            "tentando o:  -54\n",
            "tentando o:  -53\n",
            "tentando o:  -52\n",
            "tentando o:  -51\n",
            "tentando o:  -50\n",
            "tentando o:  -49\n",
            "tentando o:  -48\n",
            "tentando o:  -47\n",
            "tentando o:  -46\n",
            "tentando o:  -45\n",
            "tentando o:  -44\n",
            "tentando o:  -43\n",
            "tentando o:  -42\n",
            "tentando o:  -41\n",
            "tentando o:  -40\n",
            "tentando o:  -39\n",
            "tentando o:  -38\n",
            "tentando o:  -37\n",
            "tentando o:  -36\n",
            "tentando o:  -35\n",
            "tentando o:  -34\n",
            "tentando o:  -33\n",
            "tentando o:  -32\n",
            "tentando o:  -31\n",
            "tentando o:  -30\n",
            "tentando o:  -29\n",
            "tentando o:  -28\n",
            "tentando o:  -27\n",
            "tentando o:  -26\n",
            "tentando o:  -25\n",
            "tentando o:  -24\n",
            "tentando o:  -23\n",
            "tentando o:  -22\n",
            "tentando o:  -21\n",
            "tentando o:  -20\n",
            "tentando o:  -19\n",
            "tentando o:  -18\n",
            "tentando o:  -17\n",
            "tentando o:  -16\n",
            "tentando o:  -15\n",
            "tentando o:  -14\n",
            "tentando o:  -13\n",
            "tentando o:  -12\n",
            "tentando o:  -11\n",
            "tentando o:  -10\n",
            "tentando o:  -9\n",
            "tentando o:  -8\n",
            "tentando o:  -7\n",
            "tentando o:  -6\n",
            "tentando o:  -5\n",
            "tentando o:  -4\n",
            "tentando o:  -3\n",
            "tentando o:  -2\n",
            "tentando o:  -1\n",
            "tentando o:  0\n",
            "tentando o:  1\n",
            "tentando o:  2\n",
            "tentando o:  3\n",
            "tentando o:  4\n",
            "achamos o x = 4\n"
          ]
        }
      ]
    },
    {
      "cell_type": "markdown",
      "source": [
        "Usando a formula geral para resolver ax + b = cx + d\n",
        "  Onde a formula é: (d-b) / (a-c)\n",
        "\n",
        "Ex(2x +5 = 13) --> a =2, b = 5 c=0 d= 13"
      ],
      "metadata": {
        "id": "GLqjji13dYtx"
      }
    },
    {
      "cell_type": "code",
      "source": [
        "def equacao(a,b,c,d):\n",
        "  return(d-b)/(a-c)\n",
        "\n",
        "print(\"Será que funcionou ? x é =\", equacao(2,5,0,13))"
      ],
      "metadata": {
        "colab": {
          "base_uri": "https://localhost:8080/"
        },
        "id": "8x5I5aCLdq76",
        "outputId": "829229a8-5a14-4e0b-8f78-60be8255505a"
      },
      "execution_count": null,
      "outputs": [
        {
          "output_type": "execute_result",
          "data": {
            "text/plain": [
              "4.0"
            ]
          },
          "metadata": {},
          "execution_count": 15
        }
      ]
    }
  ]
}