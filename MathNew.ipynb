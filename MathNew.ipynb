{
 "cells": [
  {
   "cell_type": "markdown",
   "id": "5d1934bf",
   "metadata": {},
   "source": [
    "# Equações do Primeiro Grau\n"
   ]
  },
  {
   "cell_type": "code",
   "execution_count": 14,
   "id": "7404b69d",
   "metadata": {},
   "outputs": [
    {
     "name": "stdout",
     "output_type": "stream",
     "text": [
      "Achamos o 4\n"
     ]
    }
   ],
   "source": [
    "\n",
    "x = -100\n",
    "while x < 100:\n",
    "    #print(\"Tentando número\", x)\n",
    "    if 2*x +5==13:\n",
    "        print(f\"Achamos o {x}\")\n",
    "    x += 1\n",
    "\n",
    "\n",
    "    "
   ]
  },
  {
   "cell_type": "code",
   "execution_count": 20,
   "id": "c52952d1",
   "metadata": {},
   "outputs": [
    {
     "name": "stdout",
     "output_type": "stream",
     "text": [
      "4.0\n"
     ]
    }
   ],
   "source": [
    "def equation(a,b,c,d):\n",
    "    '''Resolve equações em ax+b=cx+d'''\n",
    "    return (d-b)/(a-c)\n",
    "\n",
    "x= equation(2,5,0,13)\n",
    "print(x)"
   ]
  },
  {
   "cell_type": "markdown",
   "id": "bbc57d3c",
   "metadata": {},
   "source": [
    "Resolvendo uma fração como coeficiente:\n",
    "\n",
    "1/2 X + 2/3 = 1/5+ 7/8"
   ]
  },
  {
   "cell_type": "markdown",
   "id": "9c81dc78",
   "metadata": {},
   "source": [
    "## Equuações de Segundo Grau\n"
   ]
  },
  {
   "cell_type": "code",
   "execution_count": 23,
   "id": "93c84e67",
   "metadata": {},
   "outputs": [
    {
     "data": {
      "text/plain": [
       "(1.5, -5.0)"
      ]
     },
     "execution_count": 23,
     "metadata": {},
     "output_type": "execute_result"
    }
   ],
   "source": [
    "from math import sqrt\n",
    "\n",
    "def quad (a,b,c):\n",
    "    '''Reorna a solução de uma equação na \n",
    "    forma de ax2 +b*2 +c =0'''\n",
    "\n",
    "\n",
    "    x1 = (-b + sqrt(b**2 - 4*a*c))/(2*a)\n",
    "    x2 = (-b -sqrt(b**2 - 4*a*c))/(2*a)\n",
    "    return x1,x2 \n",
    "\n",
    "quad(2,7,-15)"
   ]
  },
  {
   "cell_type": "markdown",
   "id": "c5022cb7",
   "metadata": {},
   "source": [
    "Equação Cúbica \n",
    "\n",
    "6x^3 + 31x^2 + 3x -10 = 0"
   ]
  },
  {
   "cell_type": "code",
   "execution_count": 25,
   "id": "d47670fc",
   "metadata": {},
   "outputs": [
    {
     "name": "stdout",
     "output_type": "stream",
     "text": [
      "x = -5\n",
      "Feito!\n"
     ]
    }
   ],
   "source": [
    "def g(x):\n",
    "    return 6*x**3 + 31*x**2 + 3*x -10\n",
    "\n",
    "def bruta():\n",
    "    x = -100\n",
    "    while x < 100:\n",
    "        if g(x)==0:\n",
    "            print(\"x =\", x)\n",
    "        x +=1\n",
    "    print(\"Feito!\")\n",
    "bruta()"
   ]
  }
 ],
 "metadata": {
  "kernelspec": {
   "display_name": "Python 3",
   "language": "python",
   "name": "python3"
  },
  "language_info": {
   "codemirror_mode": {
    "name": "ipython",
    "version": 3
   },
   "file_extension": ".py",
   "mimetype": "text/x-python",
   "name": "python",
   "nbconvert_exporter": "python",
   "pygments_lexer": "ipython3",
   "version": "3.13.2"
  }
 },
 "nbformat": 4,
 "nbformat_minor": 5
}
